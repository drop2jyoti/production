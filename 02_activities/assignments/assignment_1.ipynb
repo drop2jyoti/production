{
 "cells": [
  {
   "cell_type": "markdown",
   "metadata": {},
   "source": [
    "# Working with parquet files\n",
    "\n",
    "## Objective\n",
    "\n",
    "+ In this assignment, we will use the data downloaded with the module `data_manager` to create features.\n",
    "\n",
    "(11 pts total)\n",
    "\n",
    "## Prerequisites\n",
    "\n",
    "+ This notebook assumes that price data is available to you in the environment variable `PRICE_DATA`. If you have not done so, then execute the notebook `production_2_data_engineering.ipynb` to create this data set.\n"
   ]
  },
  {
   "cell_type": "markdown",
   "metadata": {},
   "source": [
    "+ Load the environment variables using dotenv. (1 pt)"
   ]
  },
  {
   "cell_type": "code",
   "execution_count": 37,
   "metadata": {},
   "outputs": [
    {
     "data": {
      "text/plain": [
       "True"
      ]
     },
     "execution_count": 37,
     "metadata": {},
     "output_type": "execute_result"
    }
   ],
   "source": [
    "# Write your code below.\n",
    "import os\n",
    "import pandas\n",
    "from dotenv import load_dotenv\n",
    "\n",
    "dotenv_path = '../../01_materials/labs/.env'\n",
    "load_dotenv(dotenv_path=dotenv_path)\n"
   ]
  },
  {
   "cell_type": "code",
   "execution_count": 28,
   "metadata": {},
   "outputs": [],
   "source": [
    "import dask\n",
    "dask.config.set({'dataframe.query-planning': True})\n",
    "import dask.dataframe as dd\n",
    "import warnings\n",
    "warnings.filterwarnings(\"ignore\")"
   ]
  },
  {
   "cell_type": "code",
   "execution_count": 29,
   "metadata": {},
   "outputs": [],
   "source": [
    "#import logger\n",
    "import sys\n",
    "sys.path.append(\"../../05_src\")\n",
    "from logger import get_logger\n",
    "\n",
    "_logs = get_logger(__name__)"
   ]
  },
  {
   "cell_type": "markdown",
   "metadata": {},
   "source": [
    "+ Load the environment variable `PRICE_DATA`.\n",
    "+ Use [glob](https://docs.python.org/3/library/glob.html) to find the path of all parquet files in the directory `PRICE_DATA`.\n",
    "\n",
    "(1pt)"
   ]
  },
  {
   "cell_type": "code",
   "execution_count": 30,
   "metadata": {},
   "outputs": [
    {
     "name": "stderr",
     "output_type": "stream",
     "text": [
      "2024-10-25 14:10:19,069, 3199359857.py, 6, INFO, Folder structure pointing to PRICE_DATA in env is : ../../05_src/data/prices/\n",
      "2024-10-25 14:10:19,069, 3199359857.py, 6, INFO, Folder structure pointing to PRICE_DATA in env is : ../../05_src/data/prices/\n",
      "2024-10-25 14:10:19,069, 3199359857.py, 6, INFO, Folder structure pointing to PRICE_DATA in env is : ../../05_src/data/prices/\n",
      "2024-10-25 14:10:19,222, 3199359857.py, 9, INFO, Total number of parquest files in the price data at given path :  ../../05_src/data/prices/ is : 11207\n",
      "2024-10-25 14:10:19,222, 3199359857.py, 9, INFO, Total number of parquest files in the price data at given path :  ../../05_src/data/prices/ is : 11207\n",
      "2024-10-25 14:10:19,222, 3199359857.py, 9, INFO, Total number of parquest files in the price data at given path :  ../../05_src/data/prices/ is : 11207\n"
     ]
    }
   ],
   "source": [
    "import os\n",
    "from glob import glob\n",
    "\n",
    "# Write your code below.\n",
    "PRICE_DATA = os.getenv('PRICE_DATA') # Get path to PRICE_DATA from env file\n",
    "_logs.info(\"Folder structure pointing to PRICE_DATA in env is : %s\", PRICE_DATA)\n",
    "\n",
    "parquet_files = glob(os.path.join(PRICE_DATA, \"*/*.parquet\")) # Load the list of data file paths\n",
    "_logs.info(\"Total number of parquest files in the price data at given path :  %s is : %s\", PRICE_DATA, len(parquet_files))\n"
   ]
  },
  {
   "cell_type": "markdown",
   "metadata": {},
   "source": [
    "For each ticker and using Dask, do the following:\n",
    "\n",
    "+ Add lags for variables Close and Adj_Close.\n",
    "+ Add returns based on Adjusted Close:\n",
    "    \n",
    "    - `returns`: (Adj Close / Adj Close_lag) - 1\n",
    "\n",
    "+ Add the following range: \n",
    "\n",
    "    - `hi_lo_range`: this is the day's High minus Low.\n",
    "\n",
    "+ Assign the result to `dd_feat`.\n",
    "\n",
    "(4 pt)"
   ]
  },
  {
   "cell_type": "code",
   "execution_count": 31,
   "metadata": {},
   "outputs": [
    {
     "name": "stderr",
     "output_type": "stream",
     "text": [
      "2024-10-25 14:10:19,841, 1531631548.py, 4, INFO, Columns in dask dataframe : \n",
      " Index(['Date', 'Adj Close', 'Close', 'High', 'Low', 'Open', 'Volume', 'sector',\n",
      "       'subsector', 'year'],\n",
      "      dtype='object', name='Price')\n",
      "2024-10-25 14:10:19,841, 1531631548.py, 4, INFO, Columns in dask dataframe : \n",
      " Index(['Date', 'Adj Close', 'Close', 'High', 'Low', 'Open', 'Volume', 'sector',\n",
      "       'subsector', 'year'],\n",
      "      dtype='object', name='Price')\n",
      "2024-10-25 14:10:19,841, 1531631548.py, 4, INFO, Columns in dask dataframe : \n",
      " Index(['Date', 'Adj Close', 'Close', 'High', 'Low', 'Open', 'Volume', 'sector',\n",
      "       'subsector', 'year'],\n",
      "      dtype='object', name='Price')\n",
      "2024-10-25 14:10:19,843, 1531631548.py, 16, INFO, \n",
      "\n",
      "Dask Feature data frame columns after transformation :\n",
      " Index(['Date', 'Adj Close', 'Close', 'High', 'Low', 'Open', 'Volume', 'sector',\n",
      "       'subsector', 'year', 'Close_lag_1', 'returns', 'positive_return',\n",
      "       'hi_lo_range'],\n",
      "      dtype='object', name='Price') \n",
      "2024-10-25 14:10:19,843, 1531631548.py, 16, INFO, \n",
      "\n",
      "Dask Feature data frame columns after transformation :\n",
      " Index(['Date', 'Adj Close', 'Close', 'High', 'Low', 'Open', 'Volume', 'sector',\n",
      "       'subsector', 'year', 'Close_lag_1', 'returns', 'positive_return',\n",
      "       'hi_lo_range'],\n",
      "      dtype='object', name='Price') \n",
      "2024-10-25 14:10:19,843, 1531631548.py, 16, INFO, \n",
      "\n",
      "Dask Feature data frame columns after transformation :\n",
      " Index(['Date', 'Adj Close', 'Close', 'High', 'Low', 'Open', 'Volume', 'sector',\n",
      "       'subsector', 'year', 'Close_lag_1', 'returns', 'positive_return',\n",
      "       'hi_lo_range'],\n",
      "      dtype='object', name='Price') \n",
      "2024-10-25 14:10:56,757, 1531631548.py, 17, INFO, \n",
      "\n",
      "Dask Feature Data set after transformation: \n",
      "\n",
      " Price                       Date  Adj Close   Close   High     Low    Open  \\\n",
      "ticker                                                                       \n",
      "HUM    2000-01-03 00:00:00+00:00   6.752522  7.5625  8.375  7.3750  8.3125   \n",
      "HUM    2000-01-04 00:00:00+00:00   6.808329  7.6250  7.875  7.3750  7.3750   \n",
      "HUM    2000-01-05 00:00:00+00:00   6.975748  7.8125  7.875  7.5000  7.5000   \n",
      "HUM    2000-01-06 00:00:00+00:00   7.254776  8.1250  8.250  7.5000  7.7500   \n",
      "HUM    2000-01-07 00:00:00+00:00   7.812837  8.7500  9.125  8.0625  8.1875   \n",
      "\n",
      "Price    Volume       sector            subsector  year  Close_lag_1  \\\n",
      "ticker                                                                 \n",
      "HUM     1287300  Health Care  Managed Health Care  2000          NaN   \n",
      "HUM     1238300  Health Care  Managed Health Care  2000       7.5625   \n",
      "HUM     1096300  Health Care  Managed Health Care  2000       7.6250   \n",
      "HUM     1026700  Health Care  Managed Health Care  2000       7.8125   \n",
      "HUM     2419300  Health Care  Managed Health Care  2000       8.1250   \n",
      "\n",
      "Price    returns  positive_return  hi_lo_range  \n",
      "ticker                                          \n",
      "HUM          NaN                0       1.0000  \n",
      "HUM     0.008264                1       0.5000  \n",
      "HUM     0.024590                1       0.3750  \n",
      "HUM     0.040000                1       0.7500  \n",
      "HUM     0.076923                1       1.0625   \n",
      "2024-10-25 14:10:56,757, 1531631548.py, 17, INFO, \n",
      "\n",
      "Dask Feature Data set after transformation: \n",
      "\n",
      " Price                       Date  Adj Close   Close   High     Low    Open  \\\n",
      "ticker                                                                       \n",
      "HUM    2000-01-03 00:00:00+00:00   6.752522  7.5625  8.375  7.3750  8.3125   \n",
      "HUM    2000-01-04 00:00:00+00:00   6.808329  7.6250  7.875  7.3750  7.3750   \n",
      "HUM    2000-01-05 00:00:00+00:00   6.975748  7.8125  7.875  7.5000  7.5000   \n",
      "HUM    2000-01-06 00:00:00+00:00   7.254776  8.1250  8.250  7.5000  7.7500   \n",
      "HUM    2000-01-07 00:00:00+00:00   7.812837  8.7500  9.125  8.0625  8.1875   \n",
      "\n",
      "Price    Volume       sector            subsector  year  Close_lag_1  \\\n",
      "ticker                                                                 \n",
      "HUM     1287300  Health Care  Managed Health Care  2000          NaN   \n",
      "HUM     1238300  Health Care  Managed Health Care  2000       7.5625   \n",
      "HUM     1096300  Health Care  Managed Health Care  2000       7.6250   \n",
      "HUM     1026700  Health Care  Managed Health Care  2000       7.8125   \n",
      "HUM     2419300  Health Care  Managed Health Care  2000       8.1250   \n",
      "\n",
      "Price    returns  positive_return  hi_lo_range  \n",
      "ticker                                          \n",
      "HUM          NaN                0       1.0000  \n",
      "HUM     0.008264                1       0.5000  \n",
      "HUM     0.024590                1       0.3750  \n",
      "HUM     0.040000                1       0.7500  \n",
      "HUM     0.076923                1       1.0625   \n",
      "2024-10-25 14:10:56,757, 1531631548.py, 17, INFO, \n",
      "\n",
      "Dask Feature Data set after transformation: \n",
      "\n",
      " Price                       Date  Adj Close   Close   High     Low    Open  \\\n",
      "ticker                                                                       \n",
      "HUM    2000-01-03 00:00:00+00:00   6.752522  7.5625  8.375  7.3750  8.3125   \n",
      "HUM    2000-01-04 00:00:00+00:00   6.808329  7.6250  7.875  7.3750  7.3750   \n",
      "HUM    2000-01-05 00:00:00+00:00   6.975748  7.8125  7.875  7.5000  7.5000   \n",
      "HUM    2000-01-06 00:00:00+00:00   7.254776  8.1250  8.250  7.5000  7.7500   \n",
      "HUM    2000-01-07 00:00:00+00:00   7.812837  8.7500  9.125  8.0625  8.1875   \n",
      "\n",
      "Price    Volume       sector            subsector  year  Close_lag_1  \\\n",
      "ticker                                                                 \n",
      "HUM     1287300  Health Care  Managed Health Care  2000          NaN   \n",
      "HUM     1238300  Health Care  Managed Health Care  2000       7.5625   \n",
      "HUM     1096300  Health Care  Managed Health Care  2000       7.6250   \n",
      "HUM     1026700  Health Care  Managed Health Care  2000       7.8125   \n",
      "HUM     2419300  Health Care  Managed Health Care  2000       8.1250   \n",
      "\n",
      "Price    returns  positive_return  hi_lo_range  \n",
      "ticker                                          \n",
      "HUM          NaN                0       1.0000  \n",
      "HUM     0.008264                1       0.5000  \n",
      "HUM     0.024590                1       0.3750  \n",
      "HUM     0.040000                1       0.7500  \n",
      "HUM     0.076923                1       1.0625   \n"
     ]
    }
   ],
   "source": [
    "# Write your code below.\n",
    "\n",
    "dd_px = dd.read_parquet(PRICE_DATA).set_index(\"ticker\") # load parquet files into dask data frame\n",
    "_logs.info(\"Columns in dask dataframe : \\n %s\" , dd_px.columns) # columns in dataframe\n",
    "\n",
    "# Feature data set transformation\n",
    "dd_feat = (dd_px.groupby('ticker', group_keys=False).apply(\n",
    "    lambda x: x.assign(Close_lag_1 = x['Close'].shift(1))\n",
    ").assign(\n",
    "    returns = lambda x: x['Close']/x['Close_lag_1'] - 1\n",
    ").assign(\n",
    "    positive_return = lambda x: (x['returns'] > 0)*1\n",
    ").assign(\n",
    "    hi_lo_range = lambda x: x['High'] - x['Low']\n",
    "))\n",
    "_logs.info(\"\\n\\nDask Feature data frame columns after transformation :\\n %s \",dd_feat.columns)\n",
    "_logs.info(\"\\n\\nDask Feature Data set after transformation: \\n\\n %s \",dd_feat.head(5))"
   ]
  },
  {
   "cell_type": "markdown",
   "metadata": {},
   "source": [
    "+ Convert the Dask data frame to a pandas data frame. \n",
    "+ Add a rolling average return calculation with a window of 10 days.\n",
    "+ *Tip*: Consider using `.rolling(10).mean()`.\n",
    "\n",
    "(3 pt)"
   ]
  },
  {
   "cell_type": "code",
   "execution_count": 32,
   "metadata": {},
   "outputs": [],
   "source": [
    "# Write your code below.\n",
    "dd_pd = dd_feat.compute() # convert to panda data frame\n"
   ]
  },
  {
   "cell_type": "code",
   "execution_count": 40,
   "metadata": {},
   "outputs": [
    {
     "name": "stderr",
     "output_type": "stream",
     "text": [
      "2024-10-25 14:17:59,472, 660521954.py, 2, INFO, Data type of feature dask data frame : <class 'dask_expr._collection.DataFrame'>\n",
      "2024-10-25 14:17:59,472, 660521954.py, 2, INFO, Data type of feature dask data frame : <class 'dask_expr._collection.DataFrame'>\n",
      "2024-10-25 14:17:59,472, 660521954.py, 2, INFO, Data type of feature dask data frame : <class 'dask_expr._collection.DataFrame'>\n",
      "2024-10-25 14:17:59,476, 660521954.py, 3, INFO, Data type of data frame after converting dask data frame in pandas : <class 'pandas.core.frame.DataFrame'>\n",
      "2024-10-25 14:17:59,476, 660521954.py, 3, INFO, Data type of data frame after converting dask data frame in pandas : <class 'pandas.core.frame.DataFrame'>\n",
      "2024-10-25 14:17:59,476, 660521954.py, 3, INFO, Data type of data frame after converting dask data frame in pandas : <class 'pandas.core.frame.DataFrame'>\n",
      "2024-10-25 14:17:59,479, 660521954.py, 6, INFO, Data type of data frame after converting dask data frame in pandas : <class 'pandas.core.frame.DataFrame'>\n",
      "2024-10-25 14:17:59,479, 660521954.py, 6, INFO, Data type of data frame after converting dask data frame in pandas : <class 'pandas.core.frame.DataFrame'>\n",
      "2024-10-25 14:17:59,479, 660521954.py, 6, INFO, Data type of data frame after converting dask data frame in pandas : <class 'pandas.core.frame.DataFrame'>\n"
     ]
    }
   ],
   "source": [
    "# Test to ensure the data frames data types\n",
    "_logs.info(\"Data type of feature dask data frame : %s\", type(dd_feat))\n",
    "_logs.info(\"Data type of data frame after converting dask data frame in pandas : %s\", type(dd_pd))"
   ]
  },
  {
   "cell_type": "code",
   "execution_count": 34,
   "metadata": {},
   "outputs": [
    {
     "name": "stderr",
     "output_type": "stream",
     "text": [
      "2024-10-25 14:12:17,859, 3022600824.py, 6, INFO, (2777702, 15)\n",
      "2024-10-25 14:12:17,859, 3022600824.py, 6, INFO, (2777702, 15)\n",
      "2024-10-25 14:12:17,859, 3022600824.py, 6, INFO, (2777702, 15)\n",
      "2024-10-25 14:12:17,862, 3022600824.py, 7, INFO, Pandas Data frame - \n",
      "\n",
      " Price                       Date  Adj Close       Close        High  \\\n",
      "ticker                                                                \n",
      "HUM    2014-01-02 00:00:00+00:00  95.121140  102.839996  103.879997   \n",
      "HUM    2014-01-03 00:00:00+00:00  94.122192  101.760002  103.040001   \n",
      "HUM    2014-01-06 00:00:00+00:00  93.197266  100.760002  102.379997   \n",
      "HUM    2014-01-07 00:00:00+00:00  93.003029  100.550003  101.349998   \n",
      "HUM    2014-01-08 00:00:00+00:00  91.939323   99.400002  100.660004   \n",
      "\n",
      "Price          Low        Open   Volume       sector            subsector  \\\n",
      "ticker                                                                      \n",
      "HUM     102.300003  102.760002  1393500  Health Care  Managed Health Care   \n",
      "HUM     101.580002  102.860001  1234400  Health Care  Managed Health Care   \n",
      "HUM      99.959999  102.300003  1850200  Health Care  Managed Health Care   \n",
      "HUM      98.500000   98.720001  2561700  Health Care  Managed Health Care   \n",
      "HUM      98.949997  100.660004  2332700  Health Care  Managed Health Care   \n",
      "\n",
      "Price   year  Close_lag_1   returns  positive_return  hi_lo_range  \\\n",
      "ticker                                                              \n",
      "HUM     2014          NaN       NaN                0     1.579994   \n",
      "HUM     2014   102.839996 -0.010502                0     1.459999   \n",
      "HUM     2014   101.760002 -0.009827                0     2.419998   \n",
      "HUM     2014   100.760002 -0.002084                0     2.849998   \n",
      "HUM     2014   100.550003 -0.011437                0     1.710007   \n",
      "\n",
      "Price   rolling_avg_return  \n",
      "ticker                      \n",
      "HUM                    NaN  \n",
      "HUM                    NaN  \n",
      "HUM                    NaN  \n",
      "HUM                    NaN  \n",
      "HUM                    NaN  \n",
      "2024-10-25 14:12:17,862, 3022600824.py, 7, INFO, Pandas Data frame - \n",
      "\n",
      " Price                       Date  Adj Close       Close        High  \\\n",
      "ticker                                                                \n",
      "HUM    2014-01-02 00:00:00+00:00  95.121140  102.839996  103.879997   \n",
      "HUM    2014-01-03 00:00:00+00:00  94.122192  101.760002  103.040001   \n",
      "HUM    2014-01-06 00:00:00+00:00  93.197266  100.760002  102.379997   \n",
      "HUM    2014-01-07 00:00:00+00:00  93.003029  100.550003  101.349998   \n",
      "HUM    2014-01-08 00:00:00+00:00  91.939323   99.400002  100.660004   \n",
      "\n",
      "Price          Low        Open   Volume       sector            subsector  \\\n",
      "ticker                                                                      \n",
      "HUM     102.300003  102.760002  1393500  Health Care  Managed Health Care   \n",
      "HUM     101.580002  102.860001  1234400  Health Care  Managed Health Care   \n",
      "HUM      99.959999  102.300003  1850200  Health Care  Managed Health Care   \n",
      "HUM      98.500000   98.720001  2561700  Health Care  Managed Health Care   \n",
      "HUM      98.949997  100.660004  2332700  Health Care  Managed Health Care   \n",
      "\n",
      "Price   year  Close_lag_1   returns  positive_return  hi_lo_range  \\\n",
      "ticker                                                              \n",
      "HUM     2014          NaN       NaN                0     1.579994   \n",
      "HUM     2014   102.839996 -0.010502                0     1.459999   \n",
      "HUM     2014   101.760002 -0.009827                0     2.419998   \n",
      "HUM     2014   100.760002 -0.002084                0     2.849998   \n",
      "HUM     2014   100.550003 -0.011437                0     1.710007   \n",
      "\n",
      "Price   rolling_avg_return  \n",
      "ticker                      \n",
      "HUM                    NaN  \n",
      "HUM                    NaN  \n",
      "HUM                    NaN  \n",
      "HUM                    NaN  \n",
      "HUM                    NaN  \n",
      "2024-10-25 14:12:17,862, 3022600824.py, 7, INFO, Pandas Data frame - \n",
      "\n",
      " Price                       Date  Adj Close       Close        High  \\\n",
      "ticker                                                                \n",
      "HUM    2014-01-02 00:00:00+00:00  95.121140  102.839996  103.879997   \n",
      "HUM    2014-01-03 00:00:00+00:00  94.122192  101.760002  103.040001   \n",
      "HUM    2014-01-06 00:00:00+00:00  93.197266  100.760002  102.379997   \n",
      "HUM    2014-01-07 00:00:00+00:00  93.003029  100.550003  101.349998   \n",
      "HUM    2014-01-08 00:00:00+00:00  91.939323   99.400002  100.660004   \n",
      "\n",
      "Price          Low        Open   Volume       sector            subsector  \\\n",
      "ticker                                                                      \n",
      "HUM     102.300003  102.760002  1393500  Health Care  Managed Health Care   \n",
      "HUM     101.580002  102.860001  1234400  Health Care  Managed Health Care   \n",
      "HUM      99.959999  102.300003  1850200  Health Care  Managed Health Care   \n",
      "HUM      98.500000   98.720001  2561700  Health Care  Managed Health Care   \n",
      "HUM      98.949997  100.660004  2332700  Health Care  Managed Health Care   \n",
      "\n",
      "Price   year  Close_lag_1   returns  positive_return  hi_lo_range  \\\n",
      "ticker                                                              \n",
      "HUM     2014          NaN       NaN                0     1.579994   \n",
      "HUM     2014   102.839996 -0.010502                0     1.459999   \n",
      "HUM     2014   101.760002 -0.009827                0     2.419998   \n",
      "HUM     2014   100.760002 -0.002084                0     2.849998   \n",
      "HUM     2014   100.550003 -0.011437                0     1.710007   \n",
      "\n",
      "Price   rolling_avg_return  \n",
      "ticker                      \n",
      "HUM                    NaN  \n",
      "HUM                    NaN  \n",
      "HUM                    NaN  \n",
      "HUM                    NaN  \n",
      "HUM                    NaN  \n"
     ]
    }
   ],
   "source": [
    "# Add a rolling average return calculation with a window of 10 days\n",
    "dd_pd = (dd_pd.groupby('ticker', group_keys=False).apply(\n",
    "    lambda x: x.assign(rolling_avg_return = x['returns'].rolling(10).mean())\n",
    "))\n",
    "\n",
    "_logs.info(dd_pd.shape)\n",
    "_logs.info('Pandas Data frame - \\n\\n {}'.format(dd_pd.head()))"
   ]
  },
  {
   "cell_type": "markdown",
   "metadata": {},
   "source": [
    "Please comment:\n",
    "\n",
    "+ Was it necessary to convert to pandas to calculate the moving average return?\n",
    "+ Would it have been better to do it in Dask? Why?\n",
    "\n",
    "(1 pt)"
   ]
  },
  {
   "cell_type": "markdown",
   "metadata": {},
   "source": [
    "**Answer**\n",
    "\n",
    "1) Dask can calculate the moving average returns and there is no real need to convert the data frame to pandas in our case.\n",
    "\n",
    "2) Both Pandas DataFrames and Dask DataFrames have their strengths and weaknesses, making them suitable for different scenarios. In our scenario we are dealing with relatively small datasets, converting to Pandas is not a bad idea. Pandas library has a ease to use and rich functionalitu that is used in data analysis and visualization. It comes with benefit of in-memory processing which leads to fast execution for our datasets that fit within available memory. \n",
    "\n",
    "On the other hand, if we are working with big data and which requires efficient parallel or distributed computing, Dask DataFrames offer an impressive solution. Our choice ultimately depends on the size of our data, the complexity of our tasks, and most important willingness to explore and adopt new tools for optimal performance and scalability."
   ]
  },
  {
   "cell_type": "markdown",
   "metadata": {},
   "source": [
    "## Criteria\n",
    "\n",
    "The [rubric](./assignment_1_rubric_clean.xlsx) contains the criteria for grading."
   ]
  },
  {
   "cell_type": "markdown",
   "metadata": {},
   "source": [
    "## Submission Information\n",
    "\n",
    "🚨 **Please review our [Assignment Submission Guide](https://github.com/UofT-DSI/onboarding/blob/main/onboarding_documents/submissions.md)** 🚨 for detailed instructions on how to format, branch, and submit your work. Following these guidelines is crucial for your submissions to be evaluated correctly.\n",
    "\n",
    "### Submission Parameters:\n",
    "* Submission Due Date: `HH:MM AM/PM - DD/MM/YYYY`\n",
    "* The branch name for your repo should be: `assignment-1`\n",
    "* What to submit for this assignment:\n",
    "    * This Jupyter Notebook (assignment_1.ipynb) should be populated and should be the only change in your pull request.\n",
    "* What the pull request link should look like for this assignment: `https://github.com/<your_github_username>/production/pull/<pr_id>`\n",
    "    * Open a private window in your browser. Copy and paste the link to your pull request into the address bar. Make sure you can see your pull request properly. This helps the technical facilitator and learning support staff review your submission easily.\n",
    "\n",
    "Checklist:\n",
    "- [ ] Created a branch with the correct naming convention.\n",
    "- [ ] Ensured that the repository is public.\n",
    "- [ ] Reviewed the PR description guidelines and adhered to them.\n",
    "- [ ] Verify that the link is accessible in a private browser window.\n",
    "\n",
    "If you encounter any difficulties or have questions, please don't hesitate to reach out to our team via our Slack at `#cohort-3-help`. Our Technical Facilitators and Learning Support staff are here to help you navigate any challenges."
   ]
  }
 ],
 "metadata": {
  "kernelspec": {
   "display_name": "scale2prod",
   "language": "python",
   "name": "python3"
  },
  "language_info": {
   "codemirror_mode": {
    "name": "ipython",
    "version": 3
   },
   "file_extension": ".py",
   "mimetype": "text/x-python",
   "name": "python",
   "nbconvert_exporter": "python",
   "pygments_lexer": "ipython3",
   "version": "3.12.7"
  }
 },
 "nbformat": 4,
 "nbformat_minor": 2
}
